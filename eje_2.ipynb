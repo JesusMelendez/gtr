{
 "cells": [
  {
   "cell_type": "code",
   "execution_count": 1,
   "metadata": {},
   "outputs": [],
   "source": [
    "import pandas as pd"
   ]
  },
  {
   "cell_type": "code",
   "execution_count": 2,
   "metadata": {},
   "outputs": [],
   "source": [
    "data_path = './data/ejercicio_2.csv'"
   ]
  },
  {
   "cell_type": "code",
   "execution_count": 3,
   "metadata": {},
   "outputs": [],
   "source": [
    "info = pd.read_csv(data_path)"
   ]
  },
  {
   "cell_type": "code",
   "execution_count": 4,
   "metadata": {},
   "outputs": [
    {
     "data": {
      "text/html": [
       "<div>\n",
       "<style scoped>\n",
       "    .dataframe tbody tr th:only-of-type {\n",
       "        vertical-align: middle;\n",
       "    }\n",
       "\n",
       "    .dataframe tbody tr th {\n",
       "        vertical-align: top;\n",
       "    }\n",
       "\n",
       "    .dataframe thead th {\n",
       "        text-align: right;\n",
       "    }\n",
       "</style>\n",
       "<table border=\"1\" class=\"dataframe\">\n",
       "  <thead>\n",
       "    <tr style=\"text-align: right;\">\n",
       "      <th></th>\n",
       "      <th>Unnamed: 0</th>\n",
       "      <th>Unnamed: 1</th>\n",
       "      <th>Unnamed: 2</th>\n",
       "      <th>Unnamed: 3</th>\n",
       "      <th>Unnamed: 4</th>\n",
       "      <th>Meta Nacional</th>\n",
       "      <th>Unnamed: 6</th>\n",
       "      <th>Unnamed: 7</th>\n",
       "    </tr>\n",
       "  </thead>\n",
       "  <tbody>\n",
       "    <tr>\n",
       "      <th>0</th>\n",
       "      <td>NaN</td>\n",
       "      <td>NaN</td>\n",
       "      <td>Real</td>\n",
       "      <td>NaN</td>\n",
       "      <td>NaN</td>\n",
       "      <td>185,000</td>\n",
       "      <td>203,500</td>\n",
       "      <td>223,850</td>\n",
       "    </tr>\n",
       "    <tr>\n",
       "      <th>1</th>\n",
       "      <td>Vendedor</td>\n",
       "      <td>Potencial</td>\n",
       "      <td>ene-24</td>\n",
       "      <td>feb-24</td>\n",
       "      <td>mar-24</td>\n",
       "      <td>abr-24</td>\n",
       "      <td>may-24</td>\n",
       "      <td>jun-24</td>\n",
       "    </tr>\n",
       "    <tr>\n",
       "      <th>2</th>\n",
       "      <td>Vendedor 1</td>\n",
       "      <td>8048</td>\n",
       "      <td>3,038</td>\n",
       "      <td>2,937</td>\n",
       "      <td>3,016</td>\n",
       "      <td>NaN</td>\n",
       "      <td>NaN</td>\n",
       "      <td>NaN</td>\n",
       "    </tr>\n",
       "  </tbody>\n",
       "</table>\n",
       "</div>"
      ],
      "text/plain": [
       "   Unnamed: 0 Unnamed: 1 Unnamed: 2 Unnamed: 3 Unnamed: 4 Meta Nacional  \\\n",
       "0         NaN        NaN       Real        NaN        NaN       185,000   \n",
       "1    Vendedor  Potencial     ene-24     feb-24     mar-24        abr-24   \n",
       "2  Vendedor 1       8048      3,038      2,937      3,016           NaN   \n",
       "\n",
       "  Unnamed: 6 Unnamed: 7  \n",
       "0    203,500    223,850  \n",
       "1     may-24     jun-24  \n",
       "2        NaN        NaN  "
      ]
     },
     "execution_count": 4,
     "metadata": {},
     "output_type": "execute_result"
    }
   ],
   "source": [
    "info.head(3)"
   ]
  },
  {
   "cell_type": "code",
   "execution_count": 5,
   "metadata": {},
   "outputs": [
    {
     "data": {
      "text/plain": [
       "(32, 8)"
      ]
     },
     "execution_count": 5,
     "metadata": {},
     "output_type": "execute_result"
    }
   ],
   "source": [
    "info.shape"
   ]
  },
  {
   "cell_type": "code",
   "execution_count": 6,
   "metadata": {},
   "outputs": [],
   "source": [
    "#seleccionamos la meta global\n",
    "meta_q2 = info.iloc[0,5:]"
   ]
  },
  {
   "cell_type": "code",
   "execution_count": 7,
   "metadata": {},
   "outputs": [
    {
     "name": "stdout",
     "output_type": "stream",
     "text": [
      "<class 'pandas.core.series.Series'>\n",
      "Index: 3 entries, Meta Nacional to Unnamed: 7\n",
      "Series name: 0\n",
      "Non-Null Count  Dtype \n",
      "--------------  ----- \n",
      "3 non-null      object\n",
      "dtypes: object(1)\n",
      "memory usage: 48.0+ bytes\n"
     ]
    }
   ],
   "source": [
    "meta_q2.info()"
   ]
  },
  {
   "cell_type": "code",
   "execution_count": 8,
   "metadata": {},
   "outputs": [
    {
     "data": {
      "text/plain": [
       "Meta Nacional    185,000\n",
       "Unnamed: 6       203,500\n",
       "Unnamed: 7       223,850\n",
       "Name: 0, dtype: object"
      ]
     },
     "execution_count": 8,
     "metadata": {},
     "output_type": "execute_result"
    }
   ],
   "source": [
    "meta_q2"
   ]
  },
  {
   "cell_type": "code",
   "execution_count": 9,
   "metadata": {},
   "outputs": [],
   "source": [
    "del meta_q2"
   ]
  },
  {
   "cell_type": "code",
   "execution_count": 10,
   "metadata": {},
   "outputs": [],
   "source": [
    "dataset = info.iloc[1:,:5]"
   ]
  },
  {
   "cell_type": "code",
   "execution_count": 11,
   "metadata": {},
   "outputs": [
    {
     "data": {
      "text/html": [
       "<div>\n",
       "<style scoped>\n",
       "    .dataframe tbody tr th:only-of-type {\n",
       "        vertical-align: middle;\n",
       "    }\n",
       "\n",
       "    .dataframe tbody tr th {\n",
       "        vertical-align: top;\n",
       "    }\n",
       "\n",
       "    .dataframe thead th {\n",
       "        text-align: right;\n",
       "    }\n",
       "</style>\n",
       "<table border=\"1\" class=\"dataframe\">\n",
       "  <thead>\n",
       "    <tr style=\"text-align: right;\">\n",
       "      <th></th>\n",
       "      <th>Unnamed: 0</th>\n",
       "      <th>Unnamed: 1</th>\n",
       "      <th>Unnamed: 2</th>\n",
       "      <th>Unnamed: 3</th>\n",
       "      <th>Unnamed: 4</th>\n",
       "    </tr>\n",
       "  </thead>\n",
       "  <tbody>\n",
       "    <tr>\n",
       "      <th>1</th>\n",
       "      <td>Vendedor</td>\n",
       "      <td>Potencial</td>\n",
       "      <td>ene-24</td>\n",
       "      <td>feb-24</td>\n",
       "      <td>mar-24</td>\n",
       "    </tr>\n",
       "    <tr>\n",
       "      <th>2</th>\n",
       "      <td>Vendedor 1</td>\n",
       "      <td>8048</td>\n",
       "      <td>3,038</td>\n",
       "      <td>2,937</td>\n",
       "      <td>3,016</td>\n",
       "    </tr>\n",
       "    <tr>\n",
       "      <th>3</th>\n",
       "      <td>Vendedor 2</td>\n",
       "      <td>3211</td>\n",
       "      <td>8,915</td>\n",
       "      <td>8,903</td>\n",
       "      <td>9,007</td>\n",
       "    </tr>\n",
       "    <tr>\n",
       "      <th>4</th>\n",
       "      <td>Vendedor 3</td>\n",
       "      <td>9646</td>\n",
       "      <td>2,932</td>\n",
       "      <td>2,979</td>\n",
       "      <td>3,049</td>\n",
       "    </tr>\n",
       "    <tr>\n",
       "      <th>5</th>\n",
       "      <td>Vendedor 4</td>\n",
       "      <td>9617</td>\n",
       "      <td>2,870</td>\n",
       "      <td>2,941</td>\n",
       "      <td>3,054</td>\n",
       "    </tr>\n",
       "    <tr>\n",
       "      <th>6</th>\n",
       "      <td>Vendedor 5</td>\n",
       "      <td>3740</td>\n",
       "      <td>9,051</td>\n",
       "      <td>8,872</td>\n",
       "      <td>8,931</td>\n",
       "    </tr>\n",
       "    <tr>\n",
       "      <th>7</th>\n",
       "      <td>Vendedor 6</td>\n",
       "      <td>7514</td>\n",
       "      <td>3,007</td>\n",
       "      <td>3,015</td>\n",
       "      <td>2,911</td>\n",
       "    </tr>\n",
       "    <tr>\n",
       "      <th>8</th>\n",
       "      <td>Vendedor 7</td>\n",
       "      <td>2770</td>\n",
       "      <td>8,951</td>\n",
       "      <td>8,935</td>\n",
       "      <td>8,961</td>\n",
       "    </tr>\n",
       "    <tr>\n",
       "      <th>9</th>\n",
       "      <td>Vendedor 8</td>\n",
       "      <td>3613</td>\n",
       "      <td>6,074</td>\n",
       "      <td>5,926</td>\n",
       "      <td>6,079</td>\n",
       "    </tr>\n",
       "    <tr>\n",
       "      <th>10</th>\n",
       "      <td>Vendedor 9</td>\n",
       "      <td>8106</td>\n",
       "      <td>2,901</td>\n",
       "      <td>2,924</td>\n",
       "      <td>3,019</td>\n",
       "    </tr>\n",
       "    <tr>\n",
       "      <th>11</th>\n",
       "      <td>Vendedor 10</td>\n",
       "      <td>2902</td>\n",
       "      <td>8,947</td>\n",
       "      <td>9,065</td>\n",
       "      <td>9,134</td>\n",
       "    </tr>\n",
       "    <tr>\n",
       "      <th>12</th>\n",
       "      <td>Vendedor 11</td>\n",
       "      <td>3336</td>\n",
       "      <td>9,060</td>\n",
       "      <td>9,016</td>\n",
       "      <td>8,998</td>\n",
       "    </tr>\n",
       "    <tr>\n",
       "      <th>13</th>\n",
       "      <td>Vendedor 12</td>\n",
       "      <td>4351</td>\n",
       "      <td>5,888</td>\n",
       "      <td>6,030</td>\n",
       "      <td>6,002</td>\n",
       "    </tr>\n",
       "    <tr>\n",
       "      <th>14</th>\n",
       "      <td>Vendedor 13</td>\n",
       "      <td>4167</td>\n",
       "      <td>6,060</td>\n",
       "      <td>5,864</td>\n",
       "      <td>5,913</td>\n",
       "    </tr>\n",
       "    <tr>\n",
       "      <th>15</th>\n",
       "      <td>Vendedor 14</td>\n",
       "      <td>5403</td>\n",
       "      <td>3,071</td>\n",
       "      <td>2,945</td>\n",
       "      <td>3,006</td>\n",
       "    </tr>\n",
       "    <tr>\n",
       "      <th>16</th>\n",
       "      <td>Vendedor 15</td>\n",
       "      <td>6402</td>\n",
       "      <td>5,889</td>\n",
       "      <td>5,984</td>\n",
       "      <td>6,096</td>\n",
       "    </tr>\n",
       "    <tr>\n",
       "      <th>17</th>\n",
       "      <td>Vendedor 16</td>\n",
       "      <td>4228</td>\n",
       "      <td>5,933</td>\n",
       "      <td>5,963</td>\n",
       "      <td>5,960</td>\n",
       "    </tr>\n",
       "    <tr>\n",
       "      <th>18</th>\n",
       "      <td>Vendedor 17</td>\n",
       "      <td>5823</td>\n",
       "      <td>5,942</td>\n",
       "      <td>5,954</td>\n",
       "      <td>6,001</td>\n",
       "    </tr>\n",
       "    <tr>\n",
       "      <th>19</th>\n",
       "      <td>Vendedor 18</td>\n",
       "      <td>7338</td>\n",
       "      <td>2,956</td>\n",
       "      <td>2,998</td>\n",
       "      <td>2,957</td>\n",
       "    </tr>\n",
       "    <tr>\n",
       "      <th>20</th>\n",
       "      <td>Vendedor 19</td>\n",
       "      <td>3492</td>\n",
       "      <td>6,053</td>\n",
       "      <td>6,029</td>\n",
       "      <td>6,008</td>\n",
       "    </tr>\n",
       "    <tr>\n",
       "      <th>21</th>\n",
       "      <td>Vendedor 20</td>\n",
       "      <td>4603</td>\n",
       "      <td>5,922</td>\n",
       "      <td>6,020</td>\n",
       "      <td>5,934</td>\n",
       "    </tr>\n",
       "    <tr>\n",
       "      <th>22</th>\n",
       "      <td>Vendedor 21</td>\n",
       "      <td>2898</td>\n",
       "      <td>9,053</td>\n",
       "      <td>9,187</td>\n",
       "      <td>8,956</td>\n",
       "    </tr>\n",
       "    <tr>\n",
       "      <th>23</th>\n",
       "      <td>Vendedor 22</td>\n",
       "      <td>8069</td>\n",
       "      <td>2,960</td>\n",
       "      <td>3,056</td>\n",
       "      <td>3,004</td>\n",
       "    </tr>\n",
       "    <tr>\n",
       "      <th>24</th>\n",
       "      <td>Vendedor 23</td>\n",
       "      <td>2779</td>\n",
       "      <td>9,141</td>\n",
       "      <td>9,036</td>\n",
       "      <td>8,958</td>\n",
       "    </tr>\n",
       "    <tr>\n",
       "      <th>25</th>\n",
       "      <td>Vendedor 24</td>\n",
       "      <td>4253</td>\n",
       "      <td>3,048</td>\n",
       "      <td>2,908</td>\n",
       "      <td>3,082</td>\n",
       "    </tr>\n",
       "    <tr>\n",
       "      <th>26</th>\n",
       "      <td>Vendedor 25</td>\n",
       "      <td>2425</td>\n",
       "      <td>8,857</td>\n",
       "      <td>9,013</td>\n",
       "      <td>9,042</td>\n",
       "    </tr>\n",
       "    <tr>\n",
       "      <th>27</th>\n",
       "      <td>Vendedor 26</td>\n",
       "      <td>3489</td>\n",
       "      <td>5,960</td>\n",
       "      <td>6,034</td>\n",
       "      <td>6,035</td>\n",
       "    </tr>\n",
       "    <tr>\n",
       "      <th>28</th>\n",
       "      <td>Vendedor 27</td>\n",
       "      <td>3423</td>\n",
       "      <td>8,964</td>\n",
       "      <td>8,971</td>\n",
       "      <td>9,036</td>\n",
       "    </tr>\n",
       "    <tr>\n",
       "      <th>29</th>\n",
       "      <td>Vendedor 28</td>\n",
       "      <td>8872</td>\n",
       "      <td>2,999</td>\n",
       "      <td>3,036</td>\n",
       "      <td>2,979</td>\n",
       "    </tr>\n",
       "    <tr>\n",
       "      <th>30</th>\n",
       "      <td>Vendedor 29</td>\n",
       "      <td>4844</td>\n",
       "      <td>6,093</td>\n",
       "      <td>5,974</td>\n",
       "      <td>5,958</td>\n",
       "    </tr>\n",
       "    <tr>\n",
       "      <th>31</th>\n",
       "      <td>Vendedor 30</td>\n",
       "      <td>9828</td>\n",
       "      <td>3,032</td>\n",
       "      <td>2,916</td>\n",
       "      <td>3,003</td>\n",
       "    </tr>\n",
       "  </tbody>\n",
       "</table>\n",
       "</div>"
      ],
      "text/plain": [
       "     Unnamed: 0 Unnamed: 1 Unnamed: 2 Unnamed: 3 Unnamed: 4\n",
       "1      Vendedor  Potencial     ene-24     feb-24     mar-24\n",
       "2    Vendedor 1       8048      3,038      2,937      3,016\n",
       "3    Vendedor 2       3211      8,915      8,903      9,007\n",
       "4    Vendedor 3       9646      2,932      2,979      3,049\n",
       "5    Vendedor 4       9617      2,870      2,941      3,054\n",
       "6    Vendedor 5       3740      9,051      8,872      8,931\n",
       "7    Vendedor 6       7514      3,007      3,015      2,911\n",
       "8    Vendedor 7       2770      8,951      8,935      8,961\n",
       "9    Vendedor 8       3613      6,074      5,926      6,079\n",
       "10   Vendedor 9       8106      2,901      2,924      3,019\n",
       "11  Vendedor 10       2902      8,947      9,065      9,134\n",
       "12  Vendedor 11       3336      9,060      9,016      8,998\n",
       "13  Vendedor 12       4351      5,888      6,030      6,002\n",
       "14  Vendedor 13       4167      6,060      5,864      5,913\n",
       "15  Vendedor 14       5403      3,071      2,945      3,006\n",
       "16  Vendedor 15       6402      5,889      5,984      6,096\n",
       "17  Vendedor 16       4228      5,933      5,963      5,960\n",
       "18  Vendedor 17       5823      5,942      5,954      6,001\n",
       "19  Vendedor 18       7338      2,956      2,998      2,957\n",
       "20  Vendedor 19       3492      6,053      6,029      6,008\n",
       "21  Vendedor 20       4603      5,922      6,020      5,934\n",
       "22  Vendedor 21       2898      9,053      9,187      8,956\n",
       "23  Vendedor 22       8069      2,960      3,056      3,004\n",
       "24  Vendedor 23       2779      9,141      9,036      8,958\n",
       "25  Vendedor 24       4253      3,048      2,908      3,082\n",
       "26  Vendedor 25       2425      8,857      9,013      9,042\n",
       "27  Vendedor 26       3489      5,960      6,034      6,035\n",
       "28  Vendedor 27       3423      8,964      8,971      9,036\n",
       "29  Vendedor 28       8872      2,999      3,036      2,979\n",
       "30  Vendedor 29       4844      6,093      5,974      5,958\n",
       "31  Vendedor 30       9828      3,032      2,916      3,003"
      ]
     },
     "execution_count": 11,
     "metadata": {},
     "output_type": "execute_result"
    }
   ],
   "source": [
    "dataset"
   ]
  },
  {
   "cell_type": "code",
   "execution_count": 12,
   "metadata": {},
   "outputs": [],
   "source": [
    "columns=dataset.iloc[0]"
   ]
  },
  {
   "cell_type": "code",
   "execution_count": 17,
   "metadata": {},
   "outputs": [],
   "source": [
    "cols_name= list(dict(columns).values())"
   ]
  },
  {
   "cell_type": "code",
   "execution_count": 16,
   "metadata": {},
   "outputs": [],
   "source": [
    "cols_=list(dataset.columns)"
   ]
  },
  {
   "cell_type": "code",
   "execution_count": 18,
   "metadata": {},
   "outputs": [
    {
     "data": {
      "text/plain": [
       "{'Unnamed: 0': 'Vendedor',\n",
       " 'Unnamed: 1': 'Potencial',\n",
       " 'Unnamed: 2': 'ene-24',\n",
       " 'Unnamed: 3': 'feb-24',\n",
       " 'Unnamed: 4': 'mar-24'}"
      ]
     },
     "execution_count": 18,
     "metadata": {},
     "output_type": "execute_result"
    }
   ],
   "source": [
    "dict(zip(cols_,cols_name))"
   ]
  },
  {
   "cell_type": "code",
   "execution_count": 20,
   "metadata": {},
   "outputs": [],
   "source": [
    "dataset.rename(columns=dict(zip(cols_,cols_name)),inplace=True)"
   ]
  },
  {
   "cell_type": "code",
   "execution_count": 22,
   "metadata": {},
   "outputs": [],
   "source": [
    "dataset = dataset.iloc[1:,:5]"
   ]
  },
  {
   "cell_type": "code",
   "execution_count": 24,
   "metadata": {},
   "outputs": [
    {
     "data": {
      "text/html": [
       "<div>\n",
       "<style scoped>\n",
       "    .dataframe tbody tr th:only-of-type {\n",
       "        vertical-align: middle;\n",
       "    }\n",
       "\n",
       "    .dataframe tbody tr th {\n",
       "        vertical-align: top;\n",
       "    }\n",
       "\n",
       "    .dataframe thead th {\n",
       "        text-align: right;\n",
       "    }\n",
       "</style>\n",
       "<table border=\"1\" class=\"dataframe\">\n",
       "  <thead>\n",
       "    <tr style=\"text-align: right;\">\n",
       "      <th></th>\n",
       "      <th>Vendedor</th>\n",
       "      <th>Potencial</th>\n",
       "      <th>ene-24</th>\n",
       "      <th>feb-24</th>\n",
       "      <th>mar-24</th>\n",
       "    </tr>\n",
       "  </thead>\n",
       "  <tbody>\n",
       "    <tr>\n",
       "      <th>29</th>\n",
       "      <td>Vendedor 28</td>\n",
       "      <td>8872</td>\n",
       "      <td>2,999</td>\n",
       "      <td>3,036</td>\n",
       "      <td>2,979</td>\n",
       "    </tr>\n",
       "    <tr>\n",
       "      <th>30</th>\n",
       "      <td>Vendedor 29</td>\n",
       "      <td>4844</td>\n",
       "      <td>6,093</td>\n",
       "      <td>5,974</td>\n",
       "      <td>5,958</td>\n",
       "    </tr>\n",
       "    <tr>\n",
       "      <th>31</th>\n",
       "      <td>Vendedor 30</td>\n",
       "      <td>9828</td>\n",
       "      <td>3,032</td>\n",
       "      <td>2,916</td>\n",
       "      <td>3,003</td>\n",
       "    </tr>\n",
       "  </tbody>\n",
       "</table>\n",
       "</div>"
      ],
      "text/plain": [
       "       Vendedor Potencial ene-24 feb-24 mar-24\n",
       "29  Vendedor 28      8872  2,999  3,036  2,979\n",
       "30  Vendedor 29      4844  6,093  5,974  5,958\n",
       "31  Vendedor 30      9828  3,032  2,916  3,003"
      ]
     },
     "execution_count": 24,
     "metadata": {},
     "output_type": "execute_result"
    }
   ],
   "source": [
    "dataset.tail(3)"
   ]
  },
  {
   "cell_type": "code",
   "execution_count": null,
   "metadata": {},
   "outputs": [],
   "source": []
  }
 ],
 "metadata": {
  "kernelspec": {
   "display_name": "venv",
   "language": "python",
   "name": "python3"
  },
  "language_info": {
   "codemirror_mode": {
    "name": "ipython",
    "version": 3
   },
   "file_extension": ".py",
   "mimetype": "text/x-python",
   "name": "python",
   "nbconvert_exporter": "python",
   "pygments_lexer": "ipython3",
   "version": "3.10.11"
  }
 },
 "nbformat": 4,
 "nbformat_minor": 2
}
